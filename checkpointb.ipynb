{
 "cells": [
  {
   "cell_type": "code",
   "execution_count": 7,
   "id": "004d4e03",
   "metadata": {},
   "outputs": [
    {
     "name": "stderr",
     "output_type": "stream",
     "text": [
      "/var/folders/qk/zn5nr6ws0gz0yxbp7gph1gm40000gn/T/ipykernel_94953/3973234519.py:6: FutureWarning: YF.download() has changed argument auto_adjust default to True\n",
      "  data = yf.download(\"KO\", start=\"1999-01-01\", end=\"2024-12-31\")\n",
      "[*********************100%***********************]  1 of 1 completed\n",
      "/var/folders/qk/zn5nr6ws0gz0yxbp7gph1gm40000gn/T/ipykernel_94953/3973234519.py:23: FutureWarning: Calling float on a single element Series is deprecated and will raise a TypeError in the future. Use float(ser.iloc[0]) instead\n",
      "  mean_daily_return = float(returns.mean())\n",
      "/var/folders/qk/zn5nr6ws0gz0yxbp7gph1gm40000gn/T/ipykernel_94953/3973234519.py:24: FutureWarning: Calling float on a single element Series is deprecated and will raise a TypeError in the future. Use float(ser.iloc[0]) instead\n",
      "  std_daily_return = float(returns.std())\n"
     ]
    },
    {
     "name": "stdout",
     "output_type": "stream",
     "text": [
      "Columns returned: [('Close', 'KO'), ('High', 'KO'), ('Low', 'KO'), ('Open', 'KO'), ('Volume', 'KO')]\n",
      "Mean Annual Return: 5.10%\n",
      "Annualized Volatility: 21.02%\n",
      "Percent of Positive Outcomes: 88.75%\n"
     ]
    }
   ],
   "source": [
    "import yfinance as yf\n",
    "import numpy as np\n",
    "import pandas as pd\n",
    "\n",
    "# Download 25 years of daily data\n",
    "data = yf.download(\"KO\", start=\"1999-01-01\", end=\"2024-12-31\")\n",
    "\n",
    "# Check available columns\n",
    "print(\"Columns returned:\", data.columns.tolist())\n",
    "\n",
    "# Select adjusted close or close price\n",
    "if 'Adj Close' in data.columns:\n",
    "    prices = data['Adj Close']\n",
    "elif 'Close' in data.columns:\n",
    "    prices = data['Close']\n",
    "else:\n",
    "    raise KeyError(\"No 'Adj Close' or 'Close' column found in the dataset.\")\n",
    "\n",
    "# Compute log returns\n",
    "returns = np.log(prices / prices.shift(1)).dropna()\n",
    "\n",
    "# Safely extract scalar values\n",
    "mean_daily_return = float(returns.mean())\n",
    "std_daily_return = float(returns.std())\n",
    "\n",
    "# Annualized metrics\n",
    "mean_annual_return = mean_daily_return * 252\n",
    "vol_annual = std_daily_return * np.sqrt(252)\n",
    "\n",
    "print(f\"Mean Annual Return: {mean_annual_return:.2%}\")\n",
    "print(f\"Annualized Volatility: {vol_annual:.2%}\")\n",
    "\n",
    "# Monte Carlo simulation (10,000 trials, 25 years)\n",
    "n_sim = 10000\n",
    "n_days = 252 * 25\n",
    "simulated_returns = np.random.normal(mean_daily_return, std_daily_return, (n_days, n_sim))\n",
    "simulated_growth = np.exp(simulated_returns.cumsum(axis=0))\n",
    "final_values = simulated_growth[-1]\n",
    "positive_paths = (final_values > 1).mean()\n",
    "\n",
    "print(f\"Percent of Positive Outcomes: {positive_paths:.2%}\")"
   ]
  },
  {
   "cell_type": "code",
   "execution_count": 11,
   "id": "43daa7f1",
   "metadata": {},
   "outputs": [
    {
     "name": "stdout",
     "output_type": "stream",
     "text": [
      "[NbConvertApp] Converting notebook checkpointb.ipynb to pdf\n",
      "[NbConvertApp] Writing 26523 bytes to notebook.tex\n",
      "[NbConvertApp] Building PDF\n",
      "[NbConvertApp] Running xelatex 3 times: ['xelatex', 'notebook.tex', '-quiet']\n",
      "[NbConvertApp] Running bibtex 1 time: ['bibtex', 'notebook']\n",
      "[NbConvertApp] WARNING | bibtex had problems, most likely because there were no citations\n",
      "[NbConvertApp] PDF successfully created\n",
      "[NbConvertApp] Writing 29259 bytes to checkpointb.pdf\n"
     ]
    }
   ],
   "source": [
    "!jupyter nbconvert --to pdf checkpointb.ipynb"
   ]
  }
 ],
 "metadata": {
  "kernelspec": {
   "display_name": "base",
   "language": "python",
   "name": "python3"
  },
  "language_info": {
   "codemirror_mode": {
    "name": "ipython",
    "version": 3
   },
   "file_extension": ".py",
   "mimetype": "text/x-python",
   "name": "python",
   "nbconvert_exporter": "python",
   "pygments_lexer": "ipython3",
   "version": "3.11.5"
  }
 },
 "nbformat": 4,
 "nbformat_minor": 5
}
